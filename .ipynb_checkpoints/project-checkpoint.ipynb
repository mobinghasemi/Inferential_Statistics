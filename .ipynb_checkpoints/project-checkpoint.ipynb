{
 "cells": [
  {
   "cell_type": "code",
   "execution_count": 1,
   "id": "0cf1947e",
   "metadata": {},
   "outputs": [],
   "source": [
    "import numpy as np\n",
    "import pandas as pd\n",
    "import scipy.stats as stats\n",
    "from scipy.stats import shapiro\n",
    "import matplotlib.pyplot as plt\n",
    "import seaborn as sns"
   ]
  },
  {
   "cell_type": "code",
   "execution_count": 2,
   "id": "b61e17c6",
   "metadata": {},
   "outputs": [
    {
     "data": {
      "text/html": [
       "<div>\n",
       "<style scoped>\n",
       "    .dataframe tbody tr th:only-of-type {\n",
       "        vertical-align: middle;\n",
       "    }\n",
       "\n",
       "    .dataframe tbody tr th {\n",
       "        vertical-align: top;\n",
       "    }\n",
       "\n",
       "    .dataframe thead th {\n",
       "        text-align: right;\n",
       "    }\n",
       "</style>\n",
       "<table border=\"1\" class=\"dataframe\">\n",
       "  <thead>\n",
       "    <tr style=\"text-align: right;\">\n",
       "      <th></th>\n",
       "      <th>Unnamed: 0</th>\n",
       "      <th>user id</th>\n",
       "      <th>test group</th>\n",
       "      <th>converted</th>\n",
       "      <th>total ads</th>\n",
       "      <th>most ads day</th>\n",
       "      <th>most ads hour</th>\n",
       "    </tr>\n",
       "  </thead>\n",
       "  <tbody>\n",
       "    <tr>\n",
       "      <th>0</th>\n",
       "      <td>0</td>\n",
       "      <td>1069124</td>\n",
       "      <td>ad</td>\n",
       "      <td>False</td>\n",
       "      <td>130</td>\n",
       "      <td>Monday</td>\n",
       "      <td>20</td>\n",
       "    </tr>\n",
       "    <tr>\n",
       "      <th>1</th>\n",
       "      <td>1</td>\n",
       "      <td>1119715</td>\n",
       "      <td>ad</td>\n",
       "      <td>False</td>\n",
       "      <td>93</td>\n",
       "      <td>Tuesday</td>\n",
       "      <td>22</td>\n",
       "    </tr>\n",
       "    <tr>\n",
       "      <th>2</th>\n",
       "      <td>2</td>\n",
       "      <td>1144181</td>\n",
       "      <td>ad</td>\n",
       "      <td>False</td>\n",
       "      <td>21</td>\n",
       "      <td>Tuesday</td>\n",
       "      <td>18</td>\n",
       "    </tr>\n",
       "    <tr>\n",
       "      <th>3</th>\n",
       "      <td>3</td>\n",
       "      <td>1435133</td>\n",
       "      <td>ad</td>\n",
       "      <td>False</td>\n",
       "      <td>355</td>\n",
       "      <td>Tuesday</td>\n",
       "      <td>10</td>\n",
       "    </tr>\n",
       "    <tr>\n",
       "      <th>4</th>\n",
       "      <td>4</td>\n",
       "      <td>1015700</td>\n",
       "      <td>ad</td>\n",
       "      <td>False</td>\n",
       "      <td>276</td>\n",
       "      <td>Friday</td>\n",
       "      <td>14</td>\n",
       "    </tr>\n",
       "  </tbody>\n",
       "</table>\n",
       "</div>"
      ],
      "text/plain": [
       "   Unnamed: 0  user id test group  converted  total ads most ads day  \\\n",
       "0           0  1069124         ad      False        130       Monday   \n",
       "1           1  1119715         ad      False         93      Tuesday   \n",
       "2           2  1144181         ad      False         21      Tuesday   \n",
       "3           3  1435133         ad      False        355      Tuesday   \n",
       "4           4  1015700         ad      False        276       Friday   \n",
       "\n",
       "   most ads hour  \n",
       "0             20  \n",
       "1             22  \n",
       "2             18  \n",
       "3             10  \n",
       "4             14  "
      ]
     },
     "execution_count": 2,
     "metadata": {},
     "output_type": "execute_result"
    }
   ],
   "source": [
    "df = pd.read_csv('marketing_AB.csv')\n",
    "df.head()"
   ]
  },
  {
   "cell_type": "code",
   "execution_count": 3,
   "id": "0fd68ece",
   "metadata": {
    "scrolled": true
   },
   "outputs": [
    {
     "data": {
      "text/plain": [
       "Index(['Unnamed: 0', 'user id', 'test group', 'converted', 'total ads',\n",
       "       'most ads day', 'most ads hour'],\n",
       "      dtype='object')"
      ]
     },
     "execution_count": 3,
     "metadata": {},
     "output_type": "execute_result"
    }
   ],
   "source": [
    "df.columns"
   ]
  },
  {
   "cell_type": "markdown",
   "id": "e2f9945f",
   "metadata": {},
   "source": [
    "## Printing number of Rows & Columns of Dataset "
   ]
  },
  {
   "cell_type": "code",
   "execution_count": 51,
   "id": "b3babf55",
   "metadata": {},
   "outputs": [
    {
     "name": "stdout",
     "output_type": "stream",
     "text": [
      "number of rows:  588101\n",
      "number of columns:  7\n"
     ]
    }
   ],
   "source": [
    "rows , cols = df.shape\n",
    "print('number of rows: ' , rows)\n",
    "print('number of columns: ' , cols)"
   ]
  },
  {
   "cell_type": "markdown",
   "id": "87483ec4",
   "metadata": {},
   "source": [
    "## Colculate All null Values in All Columns "
   ]
  },
  {
   "cell_type": "code",
   "execution_count": 50,
   "id": "ab017a59",
   "metadata": {
    "scrolled": true
   },
   "outputs": [
    {
     "data": {
      "text/plain": [
       "Unnamed:_0       False\n",
       "user_id          False\n",
       "test_group       False\n",
       "converted        False\n",
       "total_ads        False\n",
       "most_ads_day     False\n",
       "most_ads_hour    False\n",
       "dtype: bool"
      ]
     },
     "execution_count": 50,
     "metadata": {},
     "output_type": "execute_result"
    }
   ],
   "source": [
    "df.isnull().any()"
   ]
  },
  {
   "cell_type": "markdown",
   "id": "609d4713",
   "metadata": {},
   "source": [
    "## Colculate Duplicate user_id  "
   ]
  },
  {
   "cell_type": "code",
   "execution_count": 6,
   "id": "e01efaba",
   "metadata": {},
   "outputs": [
    {
     "data": {
      "text/plain": [
       "0"
      ]
     },
     "execution_count": 6,
     "metadata": {},
     "output_type": "execute_result"
    }
   ],
   "source": [
    "sum(df['user id'].duplicated())"
   ]
  },
  {
   "cell_type": "markdown",
   "id": "7b5e6fa2",
   "metadata": {},
   "source": [
    "## Colculate Number of All Unique Values in All Columns  "
   ]
  },
  {
   "cell_type": "code",
   "execution_count": 7,
   "id": "9ade0b6c",
   "metadata": {
    "scrolled": false
   },
   "outputs": [
    {
     "data": {
      "text/plain": [
       "Unnamed: 0       588101\n",
       "user id          588101\n",
       "test group            2\n",
       "converted             2\n",
       "total ads           807\n",
       "most ads day          7\n",
       "most ads hour        24\n",
       "dtype: int64"
      ]
     },
     "execution_count": 7,
     "metadata": {},
     "output_type": "execute_result"
    }
   ],
   "source": [
    "df.nunique()"
   ]
  },
  {
   "cell_type": "markdown",
   "id": "50bcae67",
   "metadata": {},
   "source": [
    "## Colculate All null Values in All Columns"
   ]
  },
  {
   "cell_type": "code",
   "execution_count": 8,
   "id": "4e55ad3a",
   "metadata": {},
   "outputs": [
    {
     "data": {
      "text/plain": [
       "Unnamed: 0       0\n",
       "user id          0\n",
       "test group       0\n",
       "converted        0\n",
       "total ads        0\n",
       "most ads day     0\n",
       "most ads hour    0\n",
       "dtype: int64"
      ]
     },
     "execution_count": 8,
     "metadata": {},
     "output_type": "execute_result"
    }
   ],
   "source": [
    "df.isnull().sum()"
   ]
  },
  {
   "cell_type": "markdown",
   "id": "1be91cef",
   "metadata": {},
   "source": [
    "## Renaming All Column's name by Using '_' Seperator "
   ]
  },
  {
   "cell_type": "code",
   "execution_count": 10,
   "id": "b4b68cb0",
   "metadata": {},
   "outputs": [
    {
     "data": {
      "text/html": [
       "<div>\n",
       "<style scoped>\n",
       "    .dataframe tbody tr th:only-of-type {\n",
       "        vertical-align: middle;\n",
       "    }\n",
       "\n",
       "    .dataframe tbody tr th {\n",
       "        vertical-align: top;\n",
       "    }\n",
       "\n",
       "    .dataframe thead th {\n",
       "        text-align: right;\n",
       "    }\n",
       "</style>\n",
       "<table border=\"1\" class=\"dataframe\">\n",
       "  <thead>\n",
       "    <tr style=\"text-align: right;\">\n",
       "      <th></th>\n",
       "      <th>Unnamed:_0</th>\n",
       "      <th>user_id</th>\n",
       "      <th>test_group</th>\n",
       "      <th>converted</th>\n",
       "      <th>total_ads</th>\n",
       "      <th>most_ads_day</th>\n",
       "      <th>most_ads_hour</th>\n",
       "    </tr>\n",
       "  </thead>\n",
       "  <tbody>\n",
       "    <tr>\n",
       "      <th>0</th>\n",
       "      <td>0</td>\n",
       "      <td>1069124</td>\n",
       "      <td>ad</td>\n",
       "      <td>False</td>\n",
       "      <td>130</td>\n",
       "      <td>Monday</td>\n",
       "      <td>20</td>\n",
       "    </tr>\n",
       "    <tr>\n",
       "      <th>1</th>\n",
       "      <td>1</td>\n",
       "      <td>1119715</td>\n",
       "      <td>ad</td>\n",
       "      <td>False</td>\n",
       "      <td>93</td>\n",
       "      <td>Tuesday</td>\n",
       "      <td>22</td>\n",
       "    </tr>\n",
       "    <tr>\n",
       "      <th>2</th>\n",
       "      <td>2</td>\n",
       "      <td>1144181</td>\n",
       "      <td>ad</td>\n",
       "      <td>False</td>\n",
       "      <td>21</td>\n",
       "      <td>Tuesday</td>\n",
       "      <td>18</td>\n",
       "    </tr>\n",
       "    <tr>\n",
       "      <th>3</th>\n",
       "      <td>3</td>\n",
       "      <td>1435133</td>\n",
       "      <td>ad</td>\n",
       "      <td>False</td>\n",
       "      <td>355</td>\n",
       "      <td>Tuesday</td>\n",
       "      <td>10</td>\n",
       "    </tr>\n",
       "    <tr>\n",
       "      <th>4</th>\n",
       "      <td>4</td>\n",
       "      <td>1015700</td>\n",
       "      <td>ad</td>\n",
       "      <td>False</td>\n",
       "      <td>276</td>\n",
       "      <td>Friday</td>\n",
       "      <td>14</td>\n",
       "    </tr>\n",
       "  </tbody>\n",
       "</table>\n",
       "</div>"
      ],
      "text/plain": [
       "   Unnamed:_0  user_id test_group  converted  total_ads most_ads_day  \\\n",
       "0           0  1069124         ad      False        130       Monday   \n",
       "1           1  1119715         ad      False         93      Tuesday   \n",
       "2           2  1144181         ad      False         21      Tuesday   \n",
       "3           3  1435133         ad      False        355      Tuesday   \n",
       "4           4  1015700         ad      False        276       Friday   \n",
       "\n",
       "   most_ads_hour  \n",
       "0             20  \n",
       "1             22  \n",
       "2             18  \n",
       "3             10  \n",
       "4             14  "
      ]
     },
     "execution_count": 10,
     "metadata": {},
     "output_type": "execute_result"
    }
   ],
   "source": [
    "df.rename(columns=lambda x: x.replace(' ','_') , inplace=True)\n",
    "df.head()"
   ]
  },
  {
   "cell_type": "markdown",
   "id": "a56f3cbb",
   "metadata": {},
   "source": [
    "## Converting 'converted' Values (True & False) to 0 , 1 Values for Arithmetic Operations "
   ]
  },
  {
   "cell_type": "code",
   "execution_count": 11,
   "id": "3c792caa",
   "metadata": {},
   "outputs": [],
   "source": [
    "df = df.copy()  \n",
    "df['converted'] = df['converted'].astype(int)"
   ]
  },
  {
   "cell_type": "markdown",
   "id": "70be92f8",
   "metadata": {},
   "source": [
    "## Seperating Categorical & Numerical Columns "
   ]
  },
  {
   "cell_type": "code",
   "execution_count": 49,
   "id": "a726a4c2",
   "metadata": {},
   "outputs": [
    {
     "name": "stdout",
     "output_type": "stream",
     "text": [
      "Categorical Variables:\n",
      "['test_group', 'most_ads_day']\n",
      "Numerical Variables:\n",
      "['Unnamed:_0', 'user_id', 'converted', 'total_ads', 'most_ads_hour']\n"
     ]
    }
   ],
   "source": [
    "cat_cols=df.select_dtypes(include=['object']).columns.tolist()\n",
    "num_cols = df.select_dtypes(include=np.number).columns.tolist()\n",
    "print(\"Categorical Variables:\")\n",
    "print(cat_cols)\n",
    "print(\"Numerical Variables:\")\n",
    "print(num_cols)"
   ]
  },
  {
   "cell_type": "markdown",
   "id": "66222c73",
   "metadata": {},
   "source": [
    "## Drawing Histplots & BoxPlots to Colculating Skewness & Outliers "
   ]
  },
  {
   "cell_type": "code",
   "execution_count": 13,
   "id": "db3107d4",
   "metadata": {},
   "outputs": [
    {
     "name": "stdout",
     "output_type": "stream",
     "text": [
      "Unnamed:_0\n",
      "Skew : -0.0\n"
     ]
    },
    {
     "data": {
      "image/png": "[encoded data removed]",
      "text/plain": [
       "<Figure size 1500x400 with 2 Axes>"
      ]
     },
     "metadata": {},
     "output_type": "display_data"
    },
    {
     "name": "stdout",
     "output_type": "stream",
     "text": [
      "user_id\n",
      "Skew : -0.1\n"
     ]
    },
    {
     "data": {
      "image/png": "[encoded data removed]",
      "text/plain": [
       "<Figure size 1500x400 with 2 Axes>"
      ]
     },
     "metadata": {},
     "output_type": "display_data"
    },
    {
     "name": "stdout",
     "output_type": "stream",
     "text": [
      "converted\n",
      "Skew : 6.05\n"
     ]
    },
    {
     "data": {
      "image/png": "[encoded data removed]",
      "text/plain": [
       "<Figure size 1500x400 with 2 Axes>"
      ]
     },
     "metadata": {},
     "output_type": "display_data"
    },
    {
     "name": "stdout",
     "output_type": "stream",
     "text": [
      "total_ads\n",
      "Skew : 7.43\n"
     ]
    },
    {
     "data": {
      "image/png": "[encoded data removed]",
      "text/plain": [
       "<Figure size 1500x400 with 2 Axes>"
      ]
     },
     "metadata": {},
     "output_type": "display_data"
    },
    {
     "name": "stdout",
     "output_type": "stream",
     "text": [
      "most_ads_hour\n",
      "Skew : -0.34\n"
     ]
    },
    {
     "data": {
      "image/png": "[encoded data removed]",
      "text/plain": [
       "<Figure size 1500x400 with 2 Axes>"
      ]
     },
     "metadata": {},
     "output_type": "display_data"
    }
   ],
   "source": [
    "for col in num_cols:\n",
    "    print(col)\n",
    "    print('Skew :', round(df[col].skew(), 2))\n",
    "    plt.figure(figsize = (15, 4))\n",
    "    plt.subplot(1, 2, 1)\n",
    "    df[col].hist(grid=False)\n",
    "    plt.ylabel('count')\n",
    "    plt.subplot(1, 2, 2)\n",
    "    sns.boxplot(x=df[col])\n",
    "    plt.show()"
   ]
  },
  {
   "cell_type": "markdown",
   "id": "dd8170cb",
   "metadata": {},
   "source": [
    "## Creating Hist plot on 'test_group' Column "
   ]
  },
  {
   "cell_type": "code",
   "execution_count": 14,
   "id": "ad299262",
   "metadata": {},
   "outputs": [
    {
     "data": {
      "text/plain": [
       "<Axes: >"
      ]
     },
     "execution_count": 14,
     "metadata": {},
     "output_type": "execute_result"
    },
    {
     "data": {
      "image/png": "[encoded data removed]",
      "text/plain": [
       "<Figure size 640x480 with 1 Axes>"
      ]
     },
     "metadata": {},
     "output_type": "display_data"
    }
   ],
   "source": [
    "df['test_group'].hist(bins=12)"
   ]
  },
  {
   "cell_type": "markdown",
   "id": "b21e11e1",
   "metadata": {},
   "source": [
    "## Creating Hist plot on 'total_ads' Column "
   ]
  },
  {
   "cell_type": "code",
   "execution_count": 15,
   "id": "044c7018",
   "metadata": {},
   "outputs": [
    {
     "data": {
      "text/plain": [
       "<Axes: >"
      ]
     },
     "execution_count": 15,
     "metadata": {},
     "output_type": "execute_result"
    },
    {
     "data": {
      "image/png": "[encoded data removed]",
      "text/plain": [
       "<Figure size 640x480 with 1 Axes>"
      ]
     },
     "metadata": {},
     "output_type": "display_data"
    }
   ],
   "source": [
    "df['total_ads'].hist(bins=12)"
   ]
  },
  {
   "cell_type": "markdown",
   "id": "467e11d6",
   "metadata": {},
   "source": [
    "## Creating Hist plot on 'most_ads_hour' Column "
   ]
  },
  {
   "cell_type": "code",
   "execution_count": 48,
   "id": "f862da5a",
   "metadata": {},
   "outputs": [
    {
     "data": {
      "text/plain": [
       "<Axes: >"
      ]
     },
     "execution_count": 48,
     "metadata": {},
     "output_type": "execute_result"
    },
    {
     "data": {
      "image/png": "[encoded data removed]",
      "text/plain": [
       "<Figure size 640x480 with 1 Axes>"
      ]
     },
     "metadata": {},
     "output_type": "display_data"
    }
   ],
   "source": [
    "df['most_ads_hour'].hist(bins=12)"
   ]
  },
  {
   "cell_type": "markdown",
   "id": "19187188",
   "metadata": {},
   "source": [
    "## Creating Hist plot on 'most_ads_day' Column "
   ]
  },
  {
   "cell_type": "code",
   "execution_count": 17,
   "id": "4594e979",
   "metadata": {},
   "outputs": [
    {
     "data": {
      "text/plain": [
       "<Axes: >"
      ]
     },
     "execution_count": 17,
     "metadata": {},
     "output_type": "execute_result"
    },
    {
     "data": {
      "image/png": "[encoded data removed]",
      "text/plain": [
       "<Figure size 640x480 with 1 Axes>"
      ]
     },
     "metadata": {},
     "output_type": "display_data"
    }
   ],
   "source": [
    "df['most_ads_day'].hist(bins=12)"
   ]
  },
  {
   "cell_type": "markdown",
   "id": "0f90f920",
   "metadata": {},
   "source": [
    "## Creating Count plot on 'converted' Column "
   ]
  },
  {
   "cell_type": "code",
   "execution_count": 18,
   "id": "91ca59a1",
   "metadata": {
    "scrolled": true
   },
   "outputs": [
    {
     "data": {
      "text/plain": [
       "<Axes: xlabel='converted', ylabel='count'>"
      ]
     },
     "execution_count": 18,
     "metadata": {},
     "output_type": "execute_result"
    },
    {
     "data": {
      "image/png": "[encoded data removed]",
      "text/plain": [
       "<Figure size 640x480 with 1 Axes>"
      ]
     },
     "metadata": {},
     "output_type": "display_data"
    }
   ],
   "source": [
    "sns.countplot(x='converted', data=df.dropna())"
   ]
  },
  {
   "cell_type": "markdown",
   "id": "172eed4e",
   "metadata": {},
   "source": [
    "## Count the frequency of unique values in the 'converted' column of a pandas DataFrame "
   ]
  },
  {
   "cell_type": "code",
   "execution_count": 19,
   "id": "763b5209",
   "metadata": {
    "scrolled": true
   },
   "outputs": [
    {
     "data": {
      "text/plain": [
       "0    573258\n",
       "1     14843\n",
       "Name: converted, dtype: int64"
      ]
     },
     "execution_count": 19,
     "metadata": {},
     "output_type": "execute_result"
    }
   ],
   "source": [
    "df['converted'].value_counts()"
   ]
  },
  {
   "cell_type": "code",
   "execution_count": 20,
   "id": "7903c1c7",
   "metadata": {},
   "outputs": [
    {
     "data": {
      "text/plain": [
       "2.523886203220195"
      ]
     },
     "execution_count": 20,
     "metadata": {},
     "output_type": "execute_result"
    }
   ],
   "source": [
    "df['converted'].mean()  * 100"
   ]
  },
  {
   "cell_type": "markdown",
   "id": "ab847866",
   "metadata": {},
   "source": [
    "## Count the frequency of unique values in the 'most_ads_day' column of a pandas DataFrame"
   ]
  },
  {
   "cell_type": "code",
   "execution_count": 21,
   "id": "5e6067be",
   "metadata": {},
   "outputs": [
    {
     "data": {
      "text/plain": [
       "Friday       92608\n",
       "Monday       87073\n",
       "Sunday       85391\n",
       "Thursday     82982\n",
       "Saturday     81660\n",
       "Wednesday    80908\n",
       "Tuesday      77479\n",
       "Name: most_ads_day, dtype: int64"
      ]
     },
     "execution_count": 21,
     "metadata": {},
     "output_type": "execute_result"
    }
   ],
   "source": [
    "df['most_ads_day'].value_counts()"
   ]
  },
  {
   "cell_type": "markdown",
   "id": "dfa4de45",
   "metadata": {},
   "source": [
    "## Count the frequency of unique values in the 'most_ads_hour' column of a pandas DataFrame "
   ]
  },
  {
   "cell_type": "code",
   "execution_count": 22,
   "id": "f2ee5876",
   "metadata": {},
   "outputs": [
    {
     "data": {
      "text/plain": [
       "13    47655\n",
       "12    47298\n",
       "11    46210\n",
       "14    45648\n",
       "15    44683\n",
       "10    38939\n",
       "16    37567\n",
       "17    34988\n",
       "18    32323\n",
       "9     31004\n",
       "19    30352\n",
       "21    29976\n",
       "20    28923\n",
       "22    26432\n",
       "23    20166\n",
       "8     17627\n",
       "7      6405\n",
       "0      5536\n",
       "2      5333\n",
       "1      4802\n",
       "3      2679\n",
       "6      2068\n",
       "5       765\n",
       "4       722\n",
       "Name: most_ads_hour, dtype: int64"
      ]
     },
     "execution_count": 22,
     "metadata": {},
     "output_type": "execute_result"
    }
   ],
   "source": [
    "df['most_ads_hour'].value_counts()"
   ]
  },
  {
   "cell_type": "code",
   "execution_count": 23,
   "id": "87ba1493",
   "metadata": {},
   "outputs": [],
   "source": [
    "#df = df.drop(columns=['Unnamed: 0', 'user_id'], axis=1)"
   ]
  },
  {
   "cell_type": "markdown",
   "id": "564c4ab0",
   "metadata": {},
   "source": [
    "## All Information About Dataset "
   ]
  },
  {
   "cell_type": "code",
   "execution_count": 24,
   "id": "9958f6cf",
   "metadata": {},
   "outputs": [
    {
     "name": "stdout",
     "output_type": "stream",
     "text": [
      "<class 'pandas.core.frame.DataFrame'>\n",
      "RangeIndex: 588101 entries, 0 to 588100\n",
      "Data columns (total 7 columns):\n",
      " #   Column         Non-Null Count   Dtype \n",
      "---  ------         --------------   ----- \n",
      " 0   Unnamed:_0     588101 non-null  int64 \n",
      " 1   user_id        588101 non-null  int64 \n",
      " 2   test_group     588101 non-null  object\n",
      " 3   converted      588101 non-null  int32 \n",
      " 4   total_ads      588101 non-null  int64 \n",
      " 5   most_ads_day   588101 non-null  object\n",
      " 6   most_ads_hour  588101 non-null  int64 \n",
      "dtypes: int32(1), int64(4), object(2)\n",
      "memory usage: 29.2+ MB\n"
     ]
    }
   ],
   "source": [
    "df.info()"
   ]
  },
  {
   "cell_type": "markdown",
   "id": "e80ce51b",
   "metadata": {},
   "source": [
    "## Statistically Description Of DataFrame"
   ]
  },
  {
   "cell_type": "code",
   "execution_count": 25,
   "id": "39a4bbf7",
   "metadata": {
    "scrolled": true
   },
   "outputs": [
    {
     "data": {
      "text/html": [
       "<div>\n",
       "<style scoped>\n",
       "    .dataframe tbody tr th:only-of-type {\n",
       "        vertical-align: middle;\n",
       "    }\n",
       "\n",
       "    .dataframe tbody tr th {\n",
       "        vertical-align: top;\n",
       "    }\n",
       "\n",
       "    .dataframe thead th {\n",
       "        text-align: right;\n",
       "    }\n",
       "</style>\n",
       "<table border=\"1\" class=\"dataframe\">\n",
       "  <thead>\n",
       "    <tr style=\"text-align: right;\">\n",
       "      <th></th>\n",
       "      <th>count</th>\n",
       "      <th>unique</th>\n",
       "      <th>top</th>\n",
       "      <th>freq</th>\n",
       "      <th>mean</th>\n",
       "      <th>std</th>\n",
       "      <th>min</th>\n",
       "      <th>25%</th>\n",
       "      <th>50%</th>\n",
       "      <th>75%</th>\n",
       "      <th>max</th>\n",
       "    </tr>\n",
       "  </thead>\n",
       "  <tbody>\n",
       "    <tr>\n",
       "      <th>Unnamed:_0</th>\n",
       "      <td>588101.0</td>\n",
       "      <td>NaN</td>\n",
       "      <td>NaN</td>\n",
       "      <td>NaN</td>\n",
       "      <td>294050.0</td>\n",
       "      <td>169770.279667</td>\n",
       "      <td>0.0</td>\n",
       "      <td>147025.0</td>\n",
       "      <td>294050.0</td>\n",
       "      <td>441075.0</td>\n",
       "      <td>588100.0</td>\n",
       "    </tr>\n",
       "    <tr>\n",
       "      <th>user_id</th>\n",
       "      <td>588101.0</td>\n",
       "      <td>NaN</td>\n",
       "      <td>NaN</td>\n",
       "      <td>NaN</td>\n",
       "      <td>1310692.215793</td>\n",
       "      <td>202225.983128</td>\n",
       "      <td>900000.0</td>\n",
       "      <td>1143190.0</td>\n",
       "      <td>1313725.0</td>\n",
       "      <td>1484088.0</td>\n",
       "      <td>1654483.0</td>\n",
       "    </tr>\n",
       "    <tr>\n",
       "      <th>test_group</th>\n",
       "      <td>588101</td>\n",
       "      <td>2</td>\n",
       "      <td>ad</td>\n",
       "      <td>564577</td>\n",
       "      <td>NaN</td>\n",
       "      <td>NaN</td>\n",
       "      <td>NaN</td>\n",
       "      <td>NaN</td>\n",
       "      <td>NaN</td>\n",
       "      <td>NaN</td>\n",
       "      <td>NaN</td>\n",
       "    </tr>\n",
       "    <tr>\n",
       "      <th>converted</th>\n",
       "      <td>588101.0</td>\n",
       "      <td>NaN</td>\n",
       "      <td>NaN</td>\n",
       "      <td>NaN</td>\n",
       "      <td>0.025239</td>\n",
       "      <td>0.15685</td>\n",
       "      <td>0.0</td>\n",
       "      <td>0.0</td>\n",
       "      <td>0.0</td>\n",
       "      <td>0.0</td>\n",
       "      <td>1.0</td>\n",
       "    </tr>\n",
       "    <tr>\n",
       "      <th>total_ads</th>\n",
       "      <td>588101.0</td>\n",
       "      <td>NaN</td>\n",
       "      <td>NaN</td>\n",
       "      <td>NaN</td>\n",
       "      <td>24.820876</td>\n",
       "      <td>43.715181</td>\n",
       "      <td>1.0</td>\n",
       "      <td>4.0</td>\n",
       "      <td>13.0</td>\n",
       "      <td>27.0</td>\n",
       "      <td>2065.0</td>\n",
       "    </tr>\n",
       "    <tr>\n",
       "      <th>most_ads_day</th>\n",
       "      <td>588101</td>\n",
       "      <td>7</td>\n",
       "      <td>Friday</td>\n",
       "      <td>92608</td>\n",
       "      <td>NaN</td>\n",
       "      <td>NaN</td>\n",
       "      <td>NaN</td>\n",
       "      <td>NaN</td>\n",
       "      <td>NaN</td>\n",
       "      <td>NaN</td>\n",
       "      <td>NaN</td>\n",
       "    </tr>\n",
       "    <tr>\n",
       "      <th>most_ads_hour</th>\n",
       "      <td>588101.0</td>\n",
       "      <td>NaN</td>\n",
       "      <td>NaN</td>\n",
       "      <td>NaN</td>\n",
       "      <td>14.469061</td>\n",
       "      <td>4.834634</td>\n",
       "      <td>0.0</td>\n",
       "      <td>11.0</td>\n",
       "      <td>14.0</td>\n",
       "      <td>18.0</td>\n",
       "      <td>23.0</td>\n",
       "    </tr>\n",
       "  </tbody>\n",
       "</table>\n",
       "</div>"
      ],
      "text/plain": [
       "                  count unique     top    freq            mean            std  \\\n",
       "Unnamed:_0     588101.0    NaN     NaN     NaN        294050.0  169770.279667   \n",
       "user_id        588101.0    NaN     NaN     NaN  1310692.215793  202225.983128   \n",
       "test_group       588101      2      ad  564577             NaN            NaN   \n",
       "converted      588101.0    NaN     NaN     NaN        0.025239        0.15685   \n",
       "total_ads      588101.0    NaN     NaN     NaN       24.820876      43.715181   \n",
       "most_ads_day     588101      7  Friday   92608             NaN            NaN   \n",
       "most_ads_hour  588101.0    NaN     NaN     NaN       14.469061       4.834634   \n",
       "\n",
       "                    min        25%        50%        75%        max  \n",
       "Unnamed:_0          0.0   147025.0   294050.0   441075.0   588100.0  \n",
       "user_id        900000.0  1143190.0  1313725.0  1484088.0  1654483.0  \n",
       "test_group          NaN        NaN        NaN        NaN        NaN  \n",
       "converted           0.0        0.0        0.0        0.0        1.0  \n",
       "total_ads           1.0        4.0       13.0       27.0     2065.0  \n",
       "most_ads_day        NaN        NaN        NaN        NaN        NaN  \n",
       "most_ads_hour       0.0       11.0       14.0       18.0       23.0  "
      ]
     },
     "execution_count": 25,
     "metadata": {},
     "output_type": "execute_result"
    }
   ],
   "source": [
    "df.describe(include=\"all\").T"
   ]
  },
  {
   "cell_type": "markdown",
   "id": "b924e59d",
   "metadata": {},
   "source": [
    "## Deleting All Null Rows Without Creating New DataFrame(inplace=True) "
   ]
  },
  {
   "cell_type": "code",
   "execution_count": 26,
   "id": "60acd05c",
   "metadata": {},
   "outputs": [],
   "source": [
    "df.dropna(inplace=True)"
   ]
  },
  {
   "cell_type": "markdown",
   "id": "7697afbf",
   "metadata": {},
   "source": [
    "## Colculating Correlation Between All columns"
   ]
  },
  {
   "cell_type": "code",
   "execution_count": 27,
   "id": "392d9ac7",
   "metadata": {
    "scrolled": true
   },
   "outputs": [
    {
     "name": "stderr",
     "output_type": "stream",
     "text": [
      "C:\\Users\\mobinghk\\AppData\\Local\\Temp\\ipykernel_6552\\1134722465.py:1: FutureWarning: The default value of numeric_only in DataFrame.corr is deprecated. In a future version, it will default to False. Select only valid columns or specify the value of numeric_only to silence this warning.\n",
      "  df.corr()\n"
     ]
    },
    {
     "data": {
      "text/html": [
       "<div>\n",
       "<style scoped>\n",
       "    .dataframe tbody tr th:only-of-type {\n",
       "        vertical-align: middle;\n",
       "    }\n",
       "\n",
       "    .dataframe tbody tr th {\n",
       "        vertical-align: top;\n",
       "    }\n",
       "\n",
       "    .dataframe thead th {\n",
       "        text-align: right;\n",
       "    }\n",
       "</style>\n",
       "<table border=\"1\" class=\"dataframe\">\n",
       "  <thead>\n",
       "    <tr style=\"text-align: right;\">\n",
       "      <th></th>\n",
       "      <th>Unnamed:_0</th>\n",
       "      <th>user_id</th>\n",
       "      <th>converted</th>\n",
       "      <th>total_ads</th>\n",
       "      <th>most_ads_hour</th>\n",
       "    </tr>\n",
       "  </thead>\n",
       "  <tbody>\n",
       "    <tr>\n",
       "      <th>Unnamed:_0</th>\n",
       "      <td>1.000000</td>\n",
       "      <td>-0.037463</td>\n",
       "      <td>-0.104192</td>\n",
       "      <td>-0.389108</td>\n",
       "      <td>0.006232</td>\n",
       "    </tr>\n",
       "    <tr>\n",
       "      <th>user_id</th>\n",
       "      <td>-0.037463</td>\n",
       "      <td>1.000000</td>\n",
       "      <td>0.000635</td>\n",
       "      <td>0.012336</td>\n",
       "      <td>-0.023002</td>\n",
       "    </tr>\n",
       "    <tr>\n",
       "      <th>converted</th>\n",
       "      <td>-0.104192</td>\n",
       "      <td>0.000635</td>\n",
       "      <td>1.000000</td>\n",
       "      <td>0.217419</td>\n",
       "      <td>0.019674</td>\n",
       "    </tr>\n",
       "    <tr>\n",
       "      <th>total_ads</th>\n",
       "      <td>-0.389108</td>\n",
       "      <td>0.012336</td>\n",
       "      <td>0.217419</td>\n",
       "      <td>1.000000</td>\n",
       "      <td>-0.010837</td>\n",
       "    </tr>\n",
       "    <tr>\n",
       "      <th>most_ads_hour</th>\n",
       "      <td>0.006232</td>\n",
       "      <td>-0.023002</td>\n",
       "      <td>0.019674</td>\n",
       "      <td>-0.010837</td>\n",
       "      <td>1.000000</td>\n",
       "    </tr>\n",
       "  </tbody>\n",
       "</table>\n",
       "</div>"
      ],
      "text/plain": [
       "               Unnamed:_0   user_id  converted  total_ads  most_ads_hour\n",
       "Unnamed:_0       1.000000 -0.037463  -0.104192  -0.389108       0.006232\n",
       "user_id         -0.037463  1.000000   0.000635   0.012336      -0.023002\n",
       "converted       -0.104192  0.000635   1.000000   0.217419       0.019674\n",
       "total_ads       -0.389108  0.012336   0.217419   1.000000      -0.010837\n",
       "most_ads_hour    0.006232 -0.023002   0.019674  -0.010837       1.000000"
      ]
     },
     "execution_count": 27,
     "metadata": {},
     "output_type": "execute_result"
    }
   ],
   "source": [
    "df.corr()"
   ]
  },
  {
   "cell_type": "markdown",
   "id": "d6f9786b",
   "metadata": {},
   "source": [
    "## Normalized test_group Types Count (percentage) "
   ]
  },
  {
   "cell_type": "code",
   "execution_count": 28,
   "id": "19f740d9",
   "metadata": {},
   "outputs": [
    {
     "data": {
      "text/plain": [
       "ad     96.000007\n",
       "psa     3.999993\n",
       "Name: test_group, dtype: float64"
      ]
     },
     "execution_count": 28,
     "metadata": {},
     "output_type": "execute_result"
    }
   ],
   "source": [
    "df[\"test_group\"].value_counts(normalize = True) * 100"
   ]
  },
  {
   "cell_type": "markdown",
   "id": "d442e11c",
   "metadata": {},
   "source": [
    "## Sorting Dataset Values in ascending Order by Column total_ads "
   ]
  },
  {
   "cell_type": "code",
   "execution_count": 29,
   "id": "c5285944",
   "metadata": {},
   "outputs": [
    {
     "data": {
      "text/html": [
       "<div>\n",
       "<style scoped>\n",
       "    .dataframe tbody tr th:only-of-type {\n",
       "        vertical-align: middle;\n",
       "    }\n",
       "\n",
       "    .dataframe tbody tr th {\n",
       "        vertical-align: top;\n",
       "    }\n",
       "\n",
       "    .dataframe thead th {\n",
       "        text-align: right;\n",
       "    }\n",
       "</style>\n",
       "<table border=\"1\" class=\"dataframe\">\n",
       "  <thead>\n",
       "    <tr style=\"text-align: right;\">\n",
       "      <th></th>\n",
       "      <th>Unnamed:_0</th>\n",
       "      <th>user_id</th>\n",
       "      <th>test_group</th>\n",
       "      <th>converted</th>\n",
       "      <th>total_ads</th>\n",
       "      <th>most_ads_day</th>\n",
       "      <th>most_ads_hour</th>\n",
       "    </tr>\n",
       "  </thead>\n",
       "  <tbody>\n",
       "    <tr>\n",
       "      <th>26742</th>\n",
       "      <td>26742</td>\n",
       "      <td>1184464</td>\n",
       "      <td>ad</td>\n",
       "      <td>0</td>\n",
       "      <td>2065</td>\n",
       "      <td>Friday</td>\n",
       "      <td>10</td>\n",
       "    </tr>\n",
       "    <tr>\n",
       "      <th>47005</th>\n",
       "      <td>47005</td>\n",
       "      <td>1637962</td>\n",
       "      <td>ad</td>\n",
       "      <td>1</td>\n",
       "      <td>1778</td>\n",
       "      <td>Tuesday</td>\n",
       "      <td>18</td>\n",
       "    </tr>\n",
       "    <tr>\n",
       "      <th>7187</th>\n",
       "      <td>7187</td>\n",
       "      <td>1209450</td>\n",
       "      <td>ad</td>\n",
       "      <td>1</td>\n",
       "      <td>1680</td>\n",
       "      <td>Tuesday</td>\n",
       "      <td>22</td>\n",
       "    </tr>\n",
       "    <tr>\n",
       "      <th>506</th>\n",
       "      <td>506</td>\n",
       "      <td>1086307</td>\n",
       "      <td>ad</td>\n",
       "      <td>0</td>\n",
       "      <td>1632</td>\n",
       "      <td>Friday</td>\n",
       "      <td>20</td>\n",
       "    </tr>\n",
       "    <tr>\n",
       "      <th>15334</th>\n",
       "      <td>15334</td>\n",
       "      <td>1512157</td>\n",
       "      <td>ad</td>\n",
       "      <td>1</td>\n",
       "      <td>1491</td>\n",
       "      <td>Wednesday</td>\n",
       "      <td>7</td>\n",
       "    </tr>\n",
       "  </tbody>\n",
       "</table>\n",
       "</div>"
      ],
      "text/plain": [
       "       Unnamed:_0  user_id test_group  converted  total_ads most_ads_day  \\\n",
       "26742       26742  1184464         ad          0       2065       Friday   \n",
       "47005       47005  1637962         ad          1       1778      Tuesday   \n",
       "7187         7187  1209450         ad          1       1680      Tuesday   \n",
       "506           506  1086307         ad          0       1632       Friday   \n",
       "15334       15334  1512157         ad          1       1491    Wednesday   \n",
       "\n",
       "       most_ads_hour  \n",
       "26742             10  \n",
       "47005             18  \n",
       "7187              22  \n",
       "506               20  \n",
       "15334              7  "
      ]
     },
     "execution_count": 29,
     "metadata": {},
     "output_type": "execute_result"
    }
   ],
   "source": [
    "df.sort_values(by = \"total_ads\", ascending = False).head()"
   ]
  },
  {
   "cell_type": "markdown",
   "id": "229855e9",
   "metadata": {},
   "source": [
    "## Pivot Table By Mean & Count Aggregate Function on most_ads_day & most_ads_hour   columns appling Each test_group Types "
   ]
  },
  {
   "cell_type": "code",
   "execution_count": 30,
   "id": "fc60c681",
   "metadata": {
    "scrolled": true
   },
   "outputs": [
    {
     "name": "stderr",
     "output_type": "stream",
     "text": [
      "C:\\Users\\mobinghk\\AppData\\Local\\Temp\\ipykernel_6552\\985894933.py:1: FutureWarning: pivot_table dropped a column because it failed to aggregate. This behavior is deprecated and will raise in a future version of pandas. Select only the columns that can be aggregated.\n",
      "  df.pivot_table(\n"
     ]
    },
    {
     "data": {
      "text/html": [
       "<div>\n",
       "<style scoped>\n",
       "    .dataframe tbody tr th:only-of-type {\n",
       "        vertical-align: middle;\n",
       "    }\n",
       "\n",
       "    .dataframe tbody tr th {\n",
       "        vertical-align: top;\n",
       "    }\n",
       "\n",
       "    .dataframe thead tr th {\n",
       "        text-align: left;\n",
       "    }\n",
       "\n",
       "    .dataframe thead tr:last-of-type th {\n",
       "        text-align: right;\n",
       "    }\n",
       "</style>\n",
       "<table border=\"1\" class=\"dataframe\">\n",
       "  <thead>\n",
       "    <tr>\n",
       "      <th></th>\n",
       "      <th>mean</th>\n",
       "      <th colspan=\"2\" halign=\"left\">count</th>\n",
       "    </tr>\n",
       "    <tr>\n",
       "      <th></th>\n",
       "      <th>most_ads_hour</th>\n",
       "      <th>most_ads_day</th>\n",
       "      <th>most_ads_hour</th>\n",
       "    </tr>\n",
       "    <tr>\n",
       "      <th>test_group</th>\n",
       "      <th></th>\n",
       "      <th></th>\n",
       "      <th></th>\n",
       "    </tr>\n",
       "  </thead>\n",
       "  <tbody>\n",
       "    <tr>\n",
       "      <th>ad</th>\n",
       "      <td>14.475900</td>\n",
       "      <td>564577</td>\n",
       "      <td>564577</td>\n",
       "    </tr>\n",
       "    <tr>\n",
       "      <th>psa</th>\n",
       "      <td>14.304923</td>\n",
       "      <td>23524</td>\n",
       "      <td>23524</td>\n",
       "    </tr>\n",
       "  </tbody>\n",
       "</table>\n",
       "</div>"
      ],
      "text/plain": [
       "                    mean        count              \n",
       "           most_ads_hour most_ads_day most_ads_hour\n",
       "test_group                                         \n",
       "ad             14.475900       564577        564577\n",
       "psa            14.304923        23524         23524"
      ]
     },
     "execution_count": 30,
     "metadata": {},
     "output_type": "execute_result"
    }
   ],
   "source": [
    "df.pivot_table(\n",
    "    [\"most_ads_day\", \"most_ads_hour\"],\n",
    "    [\"test_group\"],\n",
    "    aggfunc = [\"mean\", \"count\"],\n",
    ").head(10)"
   ]
  },
  {
   "cell_type": "markdown",
   "id": "abd733d1",
   "metadata": {},
   "source": [
    "## Colculating all Statistical Criterion on total_ads Column"
   ]
  },
  {
   "cell_type": "code",
   "execution_count": 31,
   "id": "ab881566",
   "metadata": {},
   "outputs": [
    {
     "name": "stdout",
     "output_type": "stream",
     "text": [
      " mean : 24.82087600599217\n",
      " median : 13.0\n",
      " standard deviation : 43.71518050444977\n",
      " skewness : 7.433113001521166\n",
      " kurtosis : 109.91798253363802\n"
     ]
    }
   ],
   "source": [
    "print(f\" mean : {df['total_ads'].mean()}\")\n",
    "print(f\" median : {df['total_ads'].median()}\")\n",
    "print(f\" standard deviation : {df['total_ads'].std()}\")\n",
    "print(f\" skewness : {df['total_ads'].skew()}\")\n",
    "print(f\" kurtosis : {df['total_ads'].kurtosis()}\")"
   ]
  },
  {
   "cell_type": "markdown",
   "id": "8d8a0826",
   "metadata": {},
   "source": [
    "## Drawing Histogram Graph on arr_delay column by Values Less Than 200 "
   ]
  },
  {
   "cell_type": "code",
   "execution_count": 32,
   "id": "003e45dd",
   "metadata": {},
   "outputs": [
    {
     "data": {
      "text/plain": [
       "<Axes: >"
      ]
     },
     "execution_count": 32,
     "metadata": {},
     "output_type": "execute_result"
    },
    {
     "data": {
      "image/png": "[encoded data removed]",
      "text/plain": [
       "<Figure size 640x480 with 1 Axes>"
      ]
     },
     "metadata": {},
     "output_type": "display_data"
    }
   ],
   "source": [
    "df['total_ads'][df['total_ads'] < 200].hist(bins=300)"
   ]
  },
  {
   "cell_type": "code",
   "execution_count": 33,
   "id": "412a1acd",
   "metadata": {},
   "outputs": [],
   "source": [
    "ads = df.query('test_group == \"ad\"') \n",
    "psa = df.query('test_group == \"psa\"')\n",
    "\n",
    "\n",
    "ads_ab = np.random.binomial(len(ads), df.converted.mean(), 10000) / len(ads)\n",
    "psa_ab = np.random.binomial(len(psa), df.converted.mean(), 10000) / len(psa)\n",
    "\n",
    "\n",
    "p_diffs = ads_ab - psa_ab"
   ]
  },
  {
   "cell_type": "code",
   "execution_count": 34,
   "id": "1721fceb",
   "metadata": {},
   "outputs": [
    {
     "data": {
      "text/plain": [
       "0.007692453192201517"
      ]
     },
     "execution_count": 34,
     "metadata": {},
     "output_type": "execute_result"
    }
   ],
   "source": [
    "ab_data_diff = ads['converted'].mean() - psa['converted'].mean()\n",
    "ab_data_diff"
   ]
  },
  {
   "cell_type": "code",
   "execution_count": 35,
   "id": "d07722df",
   "metadata": {},
   "outputs": [
    {
     "data": {
      "text/plain": [
       "0.0"
      ]
     },
     "execution_count": 35,
     "metadata": {},
     "output_type": "execute_result"
    }
   ],
   "source": [
    "(p_diffs > ab_data_diff).mean() * 100  "
   ]
  },
  {
   "cell_type": "code",
   "execution_count": 36,
   "id": "8c356808",
   "metadata": {},
   "outputs": [
    {
     "data": {
      "text/plain": [
       "100.0"
      ]
     },
     "execution_count": 36,
     "metadata": {},
     "output_type": "execute_result"
    }
   ],
   "source": [
    "(p_diffs < ab_data_diff).mean() * 100"
   ]
  },
  {
   "cell_type": "code",
   "execution_count": 37,
   "id": "5cf7f520",
   "metadata": {},
   "outputs": [
    {
     "data": {
      "text/plain": [
       "2.5546559636683748"
      ]
     },
     "execution_count": 37,
     "metadata": {},
     "output_type": "execute_result"
    }
   ],
   "source": [
    "df_ads = df.query('test_group == \"ad\"')\n",
    "df_ads['converted'].mean() * 100"
   ]
  },
  {
   "cell_type": "code",
   "execution_count": 38,
   "id": "13a0a037",
   "metadata": {},
   "outputs": [
    {
     "data": {
      "text/plain": [
       "1.785410644448223"
      ]
     },
     "execution_count": 38,
     "metadata": {},
     "output_type": "execute_result"
    }
   ],
   "source": [
    "df_psa = df.query('test_group == \"psa\"')\n",
    "df_psa['converted'].mean() * 100"
   ]
  },
  {
   "cell_type": "code",
   "execution_count": 39,
   "id": "79cd3cf9",
   "metadata": {},
   "outputs": [
    {
     "data": {
      "text/html": [
       "<div>\n",
       "<style scoped>\n",
       "    .dataframe tbody tr th:only-of-type {\n",
       "        vertical-align: middle;\n",
       "    }\n",
       "\n",
       "    .dataframe tbody tr th {\n",
       "        vertical-align: top;\n",
       "    }\n",
       "\n",
       "    .dataframe thead th {\n",
       "        text-align: right;\n",
       "    }\n",
       "</style>\n",
       "<table border=\"1\" class=\"dataframe\">\n",
       "  <thead>\n",
       "    <tr style=\"text-align: right;\">\n",
       "      <th></th>\n",
       "      <th>Unnamed:_0</th>\n",
       "      <th>user_id</th>\n",
       "      <th>converted</th>\n",
       "      <th>total_ads</th>\n",
       "      <th>most_ads_hour</th>\n",
       "    </tr>\n",
       "  </thead>\n",
       "  <tbody>\n",
       "    <tr>\n",
       "      <th>count</th>\n",
       "      <td>564577.000000</td>\n",
       "      <td>5.645770e+05</td>\n",
       "      <td>564577.000000</td>\n",
       "      <td>564577.000000</td>\n",
       "      <td>564577.000000</td>\n",
       "    </tr>\n",
       "    <tr>\n",
       "      <th>mean</th>\n",
       "      <td>293914.467114</td>\n",
       "      <td>1.327314e+06</td>\n",
       "      <td>0.025547</td>\n",
       "      <td>24.823365</td>\n",
       "      <td>14.475900</td>\n",
       "    </tr>\n",
       "    <tr>\n",
       "      <th>std</th>\n",
       "      <td>168039.202368</td>\n",
       "      <td>1.889181e+05</td>\n",
       "      <td>0.157778</td>\n",
       "      <td>43.750456</td>\n",
       "      <td>4.841808</td>\n",
       "    </tr>\n",
       "    <tr>\n",
       "      <th>min</th>\n",
       "      <td>0.000000</td>\n",
       "      <td>1.000000e+06</td>\n",
       "      <td>0.000000</td>\n",
       "      <td>1.000000</td>\n",
       "      <td>0.000000</td>\n",
       "    </tr>\n",
       "    <tr>\n",
       "      <th>25%</th>\n",
       "      <td>149003.000000</td>\n",
       "      <td>1.163686e+06</td>\n",
       "      <td>0.000000</td>\n",
       "      <td>4.000000</td>\n",
       "      <td>11.000000</td>\n",
       "    </tr>\n",
       "    <tr>\n",
       "      <th>50%</th>\n",
       "      <td>294089.000000</td>\n",
       "      <td>1.327362e+06</td>\n",
       "      <td>0.000000</td>\n",
       "      <td>13.000000</td>\n",
       "      <td>14.000000</td>\n",
       "    </tr>\n",
       "    <tr>\n",
       "      <th>75%</th>\n",
       "      <td>438890.000000</td>\n",
       "      <td>1.490914e+06</td>\n",
       "      <td>0.000000</td>\n",
       "      <td>27.000000</td>\n",
       "      <td>18.000000</td>\n",
       "    </tr>\n",
       "    <tr>\n",
       "      <th>max</th>\n",
       "      <td>588100.000000</td>\n",
       "      <td>1.654483e+06</td>\n",
       "      <td>1.000000</td>\n",
       "      <td>2065.000000</td>\n",
       "      <td>23.000000</td>\n",
       "    </tr>\n",
       "  </tbody>\n",
       "</table>\n",
       "</div>"
      ],
      "text/plain": [
       "          Unnamed:_0       user_id      converted      total_ads  \\\n",
       "count  564577.000000  5.645770e+05  564577.000000  564577.000000   \n",
       "mean   293914.467114  1.327314e+06       0.025547      24.823365   \n",
       "std    168039.202368  1.889181e+05       0.157778      43.750456   \n",
       "min         0.000000  1.000000e+06       0.000000       1.000000   \n",
       "25%    149003.000000  1.163686e+06       0.000000       4.000000   \n",
       "50%    294089.000000  1.327362e+06       0.000000      13.000000   \n",
       "75%    438890.000000  1.490914e+06       0.000000      27.000000   \n",
       "max    588100.000000  1.654483e+06       1.000000    2065.000000   \n",
       "\n",
       "       most_ads_hour  \n",
       "count  564577.000000  \n",
       "mean       14.475900  \n",
       "std         4.841808  \n",
       "min         0.000000  \n",
       "25%        11.000000  \n",
       "50%        14.000000  \n",
       "75%        18.000000  \n",
       "max        23.000000  "
      ]
     },
     "execution_count": 39,
     "metadata": {},
     "output_type": "execute_result"
    }
   ],
   "source": [
    "df_ads.describe()"
   ]
  },
  {
   "cell_type": "code",
   "execution_count": 40,
   "id": "da6f8d80",
   "metadata": {},
   "outputs": [
    {
     "data": {
      "text/html": [
       "<div>\n",
       "<style scoped>\n",
       "    .dataframe tbody tr th:only-of-type {\n",
       "        vertical-align: middle;\n",
       "    }\n",
       "\n",
       "    .dataframe tbody tr th {\n",
       "        vertical-align: top;\n",
       "    }\n",
       "\n",
       "    .dataframe thead th {\n",
       "        text-align: right;\n",
       "    }\n",
       "</style>\n",
       "<table border=\"1\" class=\"dataframe\">\n",
       "  <thead>\n",
       "    <tr style=\"text-align: right;\">\n",
       "      <th></th>\n",
       "      <th>Unnamed:_0</th>\n",
       "      <th>user_id</th>\n",
       "      <th>converted</th>\n",
       "      <th>total_ads</th>\n",
       "      <th>most_ads_hour</th>\n",
       "    </tr>\n",
       "  </thead>\n",
       "  <tbody>\n",
       "    <tr>\n",
       "      <th>count</th>\n",
       "      <td>23524.000000</td>\n",
       "      <td>23524.000000</td>\n",
       "      <td>23524.000000</td>\n",
       "      <td>23524.000000</td>\n",
       "      <td>23524.000000</td>\n",
       "    </tr>\n",
       "    <tr>\n",
       "      <th>mean</th>\n",
       "      <td>297302.795018</td>\n",
       "      <td>911761.500000</td>\n",
       "      <td>0.017854</td>\n",
       "      <td>24.761138</td>\n",
       "      <td>14.304923</td>\n",
       "    </tr>\n",
       "    <tr>\n",
       "      <th>std</th>\n",
       "      <td>206995.969959</td>\n",
       "      <td>6790.938202</td>\n",
       "      <td>0.132424</td>\n",
       "      <td>42.860720</td>\n",
       "      <td>4.656239</td>\n",
       "    </tr>\n",
       "    <tr>\n",
       "      <th>min</th>\n",
       "      <td>18.000000</td>\n",
       "      <td>900000.000000</td>\n",
       "      <td>0.000000</td>\n",
       "      <td>1.000000</td>\n",
       "      <td>0.000000</td>\n",
       "    </tr>\n",
       "    <tr>\n",
       "      <th>25%</th>\n",
       "      <td>83618.250000</td>\n",
       "      <td>905880.750000</td>\n",
       "      <td>0.000000</td>\n",
       "      <td>4.000000</td>\n",
       "      <td>11.000000</td>\n",
       "    </tr>\n",
       "    <tr>\n",
       "      <th>50%</th>\n",
       "      <td>293321.500000</td>\n",
       "      <td>911761.500000</td>\n",
       "      <td>0.000000</td>\n",
       "      <td>12.000000</td>\n",
       "      <td>14.000000</td>\n",
       "    </tr>\n",
       "    <tr>\n",
       "      <th>75%</th>\n",
       "      <td>526178.750000</td>\n",
       "      <td>917642.250000</td>\n",
       "      <td>0.000000</td>\n",
       "      <td>26.000000</td>\n",
       "      <td>18.000000</td>\n",
       "    </tr>\n",
       "    <tr>\n",
       "      <th>max</th>\n",
       "      <td>588081.000000</td>\n",
       "      <td>923523.000000</td>\n",
       "      <td>1.000000</td>\n",
       "      <td>907.000000</td>\n",
       "      <td>23.000000</td>\n",
       "    </tr>\n",
       "  </tbody>\n",
       "</table>\n",
       "</div>"
      ],
      "text/plain": [
       "          Unnamed:_0        user_id     converted     total_ads  most_ads_hour\n",
       "count   23524.000000   23524.000000  23524.000000  23524.000000   23524.000000\n",
       "mean   297302.795018  911761.500000      0.017854     24.761138      14.304923\n",
       "std    206995.969959    6790.938202      0.132424     42.860720       4.656239\n",
       "min        18.000000  900000.000000      0.000000      1.000000       0.000000\n",
       "25%     83618.250000  905880.750000      0.000000      4.000000      11.000000\n",
       "50%    293321.500000  911761.500000      0.000000     12.000000      14.000000\n",
       "75%    526178.750000  917642.250000      0.000000     26.000000      18.000000\n",
       "max    588081.000000  923523.000000      1.000000    907.000000      23.000000"
      ]
     },
     "execution_count": 40,
     "metadata": {},
     "output_type": "execute_result"
    }
   ],
   "source": [
    "df_psa.describe()"
   ]
  },
  {
   "cell_type": "code",
   "execution_count": 44,
   "id": "20c9e9f5",
   "metadata": {},
   "outputs": [
    {
     "data": {
      "text/html": [
       "<div>\n",
       "<style scoped>\n",
       "    .dataframe tbody tr th:only-of-type {\n",
       "        vertical-align: middle;\n",
       "    }\n",
       "\n",
       "    .dataframe tbody tr th {\n",
       "        vertical-align: top;\n",
       "    }\n",
       "\n",
       "    .dataframe thead th {\n",
       "        text-align: right;\n",
       "    }\n",
       "</style>\n",
       "<table border=\"1\" class=\"dataframe\">\n",
       "  <thead>\n",
       "    <tr style=\"text-align: right;\">\n",
       "      <th>converted</th>\n",
       "      <th>0</th>\n",
       "      <th>1</th>\n",
       "    </tr>\n",
       "    <tr>\n",
       "      <th>test_group</th>\n",
       "      <th></th>\n",
       "      <th></th>\n",
       "    </tr>\n",
       "  </thead>\n",
       "  <tbody>\n",
       "    <tr>\n",
       "      <th>ad</th>\n",
       "      <td>550154</td>\n",
       "      <td>14423</td>\n",
       "    </tr>\n",
       "    <tr>\n",
       "      <th>psa</th>\n",
       "      <td>23104</td>\n",
       "      <td>420</td>\n",
       "    </tr>\n",
       "  </tbody>\n",
       "</table>\n",
       "</div>"
      ],
      "text/plain": [
       "converted        0      1\n",
       "test_group               \n",
       "ad          550154  14423\n",
       "psa          23104    420"
      ]
     },
     "execution_count": 44,
     "metadata": {},
     "output_type": "execute_result"
    }
   ],
   "source": [
    "df.groupby(['test_group', 'converted']).count()['user_id'].unstack('converted')"
   ]
  },
  {
   "cell_type": "markdown",
   "id": "aa0a97a8",
   "metadata": {},
   "source": [
    "## Creating KDE plot on converted values (0,1) seperated by psa & ad group"
   ]
  },
  {
   "cell_type": "code",
   "execution_count": 45,
   "id": "99782936",
   "metadata": {},
   "outputs": [
    {
     "data": {
      "image/png": "[encoded data removed]",
      "text/plain": [
       "<Figure size 1300x700 with 1 Axes>"
      ]
     },
     "metadata": {},
     "output_type": "display_data"
    }
   ],
   "source": [
    "fig = plt.figure(figsize=(13,7))\n",
    "ax = sns.kdeplot(df.loc[(df['test_group'] == 'ad'), 'converted'], color='b', fill=True, label='Seen ad')\n",
    "ax = sns.kdeplot(df.loc[(df['test_group'] == 'psa'), 'converted'], color='r', fill=True, label='Not seen')\n",
    "ax.set(xlabel='Test group', ylabel='Frequency')\n",
    "plt.title('Test group VS. Converted')\n",
    "plt.legend();"
   ]
  },
  {
   "cell_type": "markdown",
   "id": "ab247ae5",
   "metadata": {},
   "source": [
    "## T-test Independent on ad & psa group "
   ]
  },
  {
   "cell_type": "markdown",
   "id": "d7d55e3f",
   "metadata": {},
   "source": [
    "The independent t-test, also called the two sample t-test, independent-samples t-test or student's t-test, is an inferential statistical test that determines whether there is a statistically significant difference between the means in two unrelated groups."
   ]
  },
  {
   "cell_type": "markdown",
   "id": "25c90a17",
   "metadata": {},
   "source": [
    "<img src=\"ttest.png\">"
   ]
  },
  {
   "cell_type": "code",
   "execution_count": 46,
   "id": "abde152c",
   "metadata": {},
   "outputs": [
    {
     "name": "stdout",
     "output_type": "stream",
     "text": [
      "T-statistic: 7.37040597428566\n",
      "P-value: 1.7033052627831264e-13\n",
      "There is a statistically significant difference in the conversion rates of the two groups.\n"
     ]
    }
   ],
   "source": [
    "def ttest(data1, data2):\n",
    "    t_statistic, p_value = stats.ttest_ind(data1, data2)\n",
    "    return t_statistic, p_value\n",
    "\n",
    "def main():\n",
    "\n",
    "    # Create two groups of users\n",
    "    ad_group = df[df[\"test_group\"] == \"ad\"]\n",
    "    psa_group = df[df[\"test_group\"] == \"psa\"]\n",
    "\n",
    "    # Calculate the mean number of ads seen for each group\n",
    "    ad_mean = ad_group[\"converted\"].mean()\n",
    "    psa_mean = psa_group[\"converted\"].mean()\n",
    "\n",
    "    # Perform a independent t-test to compare the means of the two groups\n",
    "    t_statistic, p_value = ttest(ad_group[\"converted\"], psa_group[\"converted\"])\n",
    "\n",
    "    # Print the results\n",
    "    print(\"T-statistic:\", t_statistic)\n",
    "    print(\"P-value:\", p_value)\n",
    "    if p_value < 0.05:\n",
    "        print(\"There is a statistically significant difference in the conversion rates of the two groups.\")\n",
    "    else:\n",
    "        print(\"There is no statistically significant difference in the conversion rates of the two groups.\")\n",
    "\n",
    "if __name__ == \"__main__\":\n",
    "    main()"
   ]
  },
  {
   "cell_type": "markdown",
   "id": "3bf3f5f3",
   "metadata": {},
   "source": [
    "  ##  Chi_Square Test "
   ]
  },
  {
   "cell_type": "markdown",
   "id": "02b12268",
   "metadata": {},
   "source": [
    "Chi-square analysis is applied to categorical variables and is especially useful when those variables are nominal (where order doesn't matter, like marital status or gender)."
   ]
  },
  {
   "cell_type": "markdown",
   "id": "df702fa1",
   "metadata": {},
   "source": [
    "<img src=\"chisq.png\"/>"
   ]
  },
  {
   "cell_type": "code",
   "execution_count": 47,
   "id": "a85631e7",
   "metadata": {},
   "outputs": [
    {
     "name": "stdout",
     "output_type": "stream",
     "text": [
      "Ad conversion rate: 0.025546559636683747\n",
      "PSA conversion rate: 0.01785410644448223\n",
      "Degree Of Freedom: 1\n",
      "Chi-squared statistic: 54.005823883685245\n",
      "P-value: 1.9989623063390075e-13\n",
      "There is a statistically significant difference in the conversion rates of the two groups.\n"
     ]
    }
   ],
   "source": [
    "ad_group = df[df[\"test_group\"] == \"ad\"]\n",
    "psa_group = df[df[\"test_group\"] == \"psa\"]\n",
    "\n",
    "# Calculate the conversion rate for each group\n",
    "\n",
    "ad_conversion_rate = len(ad_group[ad_group[\"converted\"] == 1]) / len(ad_group)\n",
    "psa_conversion_rate = len(psa_group[psa_group[\"converted\"] == 1]) / len(psa_group)\n",
    "\n",
    "contingency_table = pd.crosstab(df[\"test_group\"], df[\"converted\"])\n",
    "chi2, p_value, degrees_of_freedom, expected_values = stats.chi2_contingency(contingency_table)\n",
    "\n",
    "print(\"Ad conversion rate:\", ad_conversion_rate)\n",
    "print(\"PSA conversion rate:\", psa_conversion_rate)\n",
    "print(\"Degree Of Freedom:\", degrees_of_freedom)\n",
    "print(\"Chi-squared statistic:\", chi2)\n",
    "print(\"P-value:\", p_value)\n",
    "\n",
    "# If the p-value is less than 0.05, then we can conclude that there is a statistically significant difference in the conversion rates of the two groups.\n",
    "\n",
    "if p_value < 0.05:\n",
    "    print(\"There is a statistically significant difference in the conversion rates of the two groups.\")\n",
    "else:\n",
    "    print(\"There is no statistically significant difference in the conversion rates of the two groups.\")"
   ]
  },
  {
   "cell_type": "markdown",
   "id": "1348e6f4",
   "metadata": {},
   "source": [
    "## Final Solution"
   ]
  },
  {
   "cell_type": "markdown",
   "id": "b6e34482",
   "metadata": {},
   "source": [
    "The chi-squared statistic of 54.005823883685245 is much larger than the critical value of 3.841, which is the cutoff for significance at the 0.05 level. This means that the difference between the two conversion rates is very likely to be real and not due to chance.\n",
    "\n",
    "The p-value of 1.9989623063390075e-13 is also very small. This means that there is a very small probability that the difference between the two conversion rates could have occurred by chance.\n",
    "\n",
    "In other words, the chi-squared statistic and p-value suggest that there is strong evidence to conclude that there is a significant difference between the ad conversion rate and the PSA conversion rate.\n",
    "\n",
    "In your case, the chi-squared statistic is greater than the critical value and the p-value is much less than 0.05, so you can conclude that the difference between the two conversion rates is significant at the 0.05 level."
   ]
  }
 ],
 "metadata": {
  "kernelspec": {
   "display_name": "Python 3 (ipykernel)",
   "language": "python",
   "name": "python3"
  },
  "language_info": {
   "codemirror_mode": {
    "name": "ipython",
    "version": 3
   },
   "file_extension": ".py",
   "mimetype": "text/x-python",
   "name": "python",
   "nbconvert_exporter": "python",
   "pygments_lexer": "ipython3",
   "version": "3.10.9"
  }
 },
 "nbformat": 4,
 "nbformat_minor": 5
}
